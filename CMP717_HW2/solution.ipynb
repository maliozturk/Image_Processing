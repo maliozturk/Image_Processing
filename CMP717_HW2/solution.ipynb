{
 "cells": [
  {
   "cell_type": "code",
   "execution_count": null,
   "outputs": [],
   "source": [
    "import numpy as np\n",
    "import cv2\n",
    "import matplotlib.pyplot as plt\n",
    "import random\n",
    "from numpy import ndarray"
   ],
   "metadata": {
    "collapsed": false,
    "ExecuteTime": {
     "start_time": "2023-05-14T15:19:01.209697Z",
     "end_time": "2023-05-14T15:19:01.223691Z"
    }
   }
  },
  {
   "cell_type": "code",
   "execution_count": null,
   "outputs": [],
   "source": [
    "def apply_medfilt_grayscale(noisy_img:np.ndarray, filter_size:int, label:str) -> tuple:\n",
    "    \"\"\"\n",
    "    This filter is a non-linear filter that replaces each pixel with the median of its neighboring pixels.\n",
    "    The median filter is an effective way to remove noise from an image while preserving edges.\n",
    "    The median filter can be applied with a probability by randomly choosing which pixels to filter and which to leave unchanged.\n",
    "    \"\"\"\n",
    "    if filter_size == None:\n",
    "        return noisy_img, noisy_img\n",
    "\n",
    "    filtered_img = cv2.medianBlur(noisy_img, ksize=filter_size)\n",
    "    fig = plt.figure()\n",
    "\n",
    "    plt.imshow(filtered_img, cmap=plt.cm.gray)\n",
    "    plt.title(f\"filter size:{filter_size} median filtered {label}\", fontsize=12)\n",
    "\n",
    "    fig.tight_layout(pad=2.0)\n",
    "    plt.show()\n",
    "    return noisy_img, filtered_img"
   ],
   "metadata": {
    "collapsed": false,
    "ExecuteTime": {
     "start_time": "2023-05-14T16:04:42.857324Z",
     "end_time": "2023-05-14T16:04:42.911726Z"
    }
   }
  },
  {
   "cell_type": "code",
   "execution_count": null,
   "outputs": [],
   "source": [
    "def add_uniform_noise(img_path:str, probability) -> []:\n",
    "    original_image = cv2.imread(f\"{img_path}\")\n",
    "    original_image = cv2.cvtColor(original_image, cv2.COLOR_BGR2GRAY)\n",
    "\n",
    "    Uniform_Noise = np.zeros_like(original_image)\n",
    "\n",
    "    cv2.randu(Uniform_Noise, 0, 255)\n",
    "\n",
    "    uni_noise = (Uniform_Noise * 1.0).astype(np.uint8)\n",
    "    mask = np.random.choice([0, 1], size=uni_noise.shape, p=[1-probability, probability]).astype(np.uint8)\n",
    "    uni_noise = (uni_noise * mask).astype(np.uint8)\n",
    "\n",
    "    uni_noised_img = cv2.add(original_image, uni_noise)\n",
    "\n",
    "    fig = plt.figure(dpi=128)\n",
    "    fig.add_subplot(1,1,1)\n",
    "    plt.imshow(uni_noised_img)\n",
    "    plt.title(f\"p:{probability} Uniform Noised {img_path}\", fontsize=10)\n",
    "\n",
    "    fig.tight_layout(pad=1.0)\n",
    "    plt.imshow(uni_noised_img,cmap=plt.cm.gray)\n",
    "    plt.show()\n",
    "    print(f\"uniform noised {img_path} with probability : {probability}\")\n",
    "    return original_image, uni_noised_img"
   ],
   "metadata": {
    "collapsed": false,
    "ExecuteTime": {
     "start_time": "2023-05-14T16:04:43.776374Z",
     "end_time": "2023-05-14T16:04:43.827899Z"
    }
   }
  },
  {
   "cell_type": "code",
   "execution_count": null,
   "outputs": [],
   "source": [
    "uniform_noise_applied_images ={f\"{p}_{img_p}\": add_uniform_noise(img_p, p)[1] for img_p in [\"m_high.jpg\", \"m_low.jpg\", \"m_mid.jpg\"] for p in [0.0, 0.1, 0.5, 0.8]}"
   ],
   "metadata": {
    "collapsed": false,
    "ExecuteTime": {
     "start_time": "2023-05-14T16:04:48.597074Z",
     "end_time": "2023-05-14T16:04:53.173262Z"
    }
   }
  },
  {
   "cell_type": "code",
   "execution_count": null,
   "outputs": [],
   "source": [
    "filter_sizes=[None, 5, 15]\n",
    "filtered_noisy_images = {f\"{f_size}x{f_size}_filtered_{p}_{img_p}\" :  apply_medfilt_grayscale(uniform_noise_applied_images[f\"{p}_{img_p}\"], f_size, f\"{img_p}\")[1] for p in [0.0, 0.1, 0.5, 0.8] for img_p in [\"m_high.jpg\", \"m_mid.jpg\", \"m_low.jpg\"]\n",
    "                         for f_size in filter_sizes}\n"
   ],
   "metadata": {
    "collapsed": false,
    "ExecuteTime": {
     "start_time": "2023-05-14T16:16:35.106927Z",
     "end_time": "2023-05-14T16:16:40.870210Z"
    }
   }
  },
  {
   "cell_type": "code",
   "execution_count": null,
   "outputs": [],
   "source": [
    "len(filtered_noisy_images.keys())"
   ],
   "metadata": {
    "collapsed": false,
    "ExecuteTime": {
     "start_time": "2023-05-14T16:16:46.895236Z",
     "end_time": "2023-05-14T16:16:46.986850Z"
    }
   }
  },
  {
   "cell_type": "code",
   "execution_count": null,
   "outputs": [],
   "source": [
    "filtered_noisy_images.keys()"
   ],
   "metadata": {
    "collapsed": false,
    "ExecuteTime": {
     "start_time": "2023-05-14T16:16:48.850286Z",
     "end_time": "2023-05-14T16:16:48.939626Z"
    }
   }
  },
  {
   "cell_type": "code",
   "execution_count": null,
   "outputs": [],
   "source": [
    "plt.imshow(filtered_noisy_images[\"NonexNone_filtered_0.0_m_high.jpg\"], cmap=plt.cm.gray)\n"
   ],
   "metadata": {
    "collapsed": false,
    "ExecuteTime": {
     "start_time": "2023-05-14T16:16:50.281120Z",
     "end_time": "2023-05-14T16:16:50.541296Z"
    }
   }
  },
  {
   "cell_type": "code",
   "execution_count": null,
   "outputs": [],
   "source": [
    "plt.imshow(filtered_noisy_images[\"NonexNone_filtered_0.8_m_high.jpg\"], cmap=plt.cm.gray)\n"
   ],
   "metadata": {
    "collapsed": false,
    "ExecuteTime": {
     "start_time": "2023-05-14T16:17:08.181427Z",
     "end_time": "2023-05-14T16:17:08.549001Z"
    }
   }
  },
  {
   "cell_type": "code",
   "execution_count": null,
   "outputs": [],
   "source": [
    "plt.imshow(filtered_noisy_images[\"5x5_filtered_0.8_m_high.jpg\"], cmap=plt.cm.gray)\n"
   ],
   "metadata": {
    "collapsed": false,
    "ExecuteTime": {
     "start_time": "2023-05-14T16:17:27.127551Z",
     "end_time": "2023-05-14T16:17:27.354189Z"
    }
   }
  },
  {
   "cell_type": "code",
   "execution_count": null,
   "outputs": [],
   "source": [
    "plt.imshow(filtered_noisy_images[\"15x15_filtered_0.8_m_high.jpg\"], cmap=plt.cm.gray)\n"
   ],
   "metadata": {
    "collapsed": false,
    "ExecuteTime": {
     "start_time": "2023-05-14T16:17:34.591864Z",
     "end_time": "2023-05-14T16:17:34.841145Z"
    }
   }
  },
  {
   "cell_type": "markdown",
   "source": [
    "# 1) clustering based segmentation"
   ],
   "metadata": {
    "collapsed": false
   }
  },
  {
   "cell_type": "code",
   "execution_count": null,
   "outputs": [],
   "source": [
    "def apply_clustering_segmentation(image):\n",
    "    image = np.float32(image)\n",
    "\n",
    "    # Reshape image for clustering (rows*cols, channels)\n",
    "    reshaped_image = image.reshape((-1, 1))\n",
    "\n",
    "    # Perform K-means clustering\n",
    "    criteria = (cv2.TERM_CRITERIA_EPS + cv2.TERM_CRITERIA_MAX_ITER, 10, 1.0)\n",
    "    _, labels, centers = cv2.kmeans(reshaped_image, 2, None, criteria, 10, cv2.KMEANS_RANDOM_CENTERS)\n",
    "\n",
    "    # Reshape labels to match original image shape\n",
    "    segmented_image = labels.reshape(image.shape)\n",
    "\n",
    "    return segmented_image"
   ],
   "metadata": {
    "collapsed": false,
    "ExecuteTime": {
     "start_time": "2023-05-14T16:57:15.401787Z",
     "end_time": "2023-05-14T16:57:15.416617Z"
    }
   }
  },
  {
   "cell_type": "markdown",
   "source": [
    "# 2) split-merge segmentation"
   ],
   "metadata": {
    "collapsed": false
   }
  },
  {
   "cell_type": "code",
   "execution_count": null,
   "outputs": [],
   "source": [
    "def apply_split_merge_segmentation(image):\n",
    "    # Apply threshold to create a binary image\n",
    "    _, thresholded_image = cv2.threshold(image, 0, 255, cv2.THRESH_BINARY_INV + cv2.THRESH_OTSU)\n",
    "\n",
    "    # Apply the watershed algorithm for split-merge segmentation\n",
    "    _, markers = cv2.connectedComponents(thresholded_image)\n",
    "    segmented_image = cv2.watershed(cv2.cvtColor(image, cv2.COLOR_GRAY2BGR), markers)\n",
    "\n",
    "    return segmented_image"
   ],
   "metadata": {
    "collapsed": false,
    "ExecuteTime": {
     "start_time": "2023-05-14T16:57:16.173640Z",
     "end_time": "2023-05-14T16:57:17.038961Z"
    }
   }
  },
  {
   "cell_type": "markdown",
   "source": [
    "# 3) auto-threshold segmentation"
   ],
   "metadata": {
    "collapsed": false
   }
  },
  {
   "cell_type": "code",
   "execution_count": null,
   "outputs": [],
   "source": [
    "def apply_auto_threshold_segmentation(image):\n",
    "    # Apply Otsu's thresholding for segmentation\n",
    "    _, segmented_image = cv2.threshold(image, 0, 255, cv2.THRESH_BINARY + cv2.THRESH_OTSU)\n",
    "\n",
    "    return segmented_image"
   ],
   "metadata": {
    "collapsed": false,
    "ExecuteTime": {
     "start_time": "2023-05-14T16:57:18.082950Z",
     "end_time": "2023-05-14T16:57:18.185121Z"
    }
   }
  },
  {
   "cell_type": "code",
   "execution_count": null,
   "outputs": [],
   "source": [
    "segmentation_methods = [(\"clustering\", apply_clustering_segmentation), (\"split_merge\", apply_split_merge_segmentation),\n",
    "                        (\"auto\", apply_auto_threshold_segmentation)]\n"
   ],
   "metadata": {
    "collapsed": false,
    "ExecuteTime": {
     "start_time": "2023-05-14T16:57:19.079154Z",
     "end_time": "2023-05-14T16:57:19.163307Z"
    }
   }
  },
  {
   "cell_type": "code",
   "execution_count": null,
   "outputs": [],
   "source": [
    "for sm in segmentation_methods:\n",
    "    print(f\"{sm[0]} will use function {sm[1]}\")"
   ],
   "metadata": {
    "collapsed": false,
    "ExecuteTime": {
     "start_time": "2023-05-14T16:57:20.206121Z",
     "end_time": "2023-05-14T16:57:21.073995Z"
    }
   }
  },
  {
   "cell_type": "code",
   "execution_count": null,
   "outputs": [],
   "source": [
    "plt.imshow(apply_clustering_segmentation(filtered_noisy_images[\"NonexNone_filtered_0.0_m_low.jpg\"]))"
   ],
   "metadata": {
    "collapsed": false,
    "ExecuteTime": {
     "start_time": "2023-05-14T16:57:21.052234Z",
     "end_time": "2023-05-14T16:57:21.301587Z"
    }
   }
  },
  {
   "cell_type": "code",
   "execution_count": null,
   "outputs": [],
   "source": [
    "import time\n",
    "start=time.time()\n",
    "segmented_filtered_noised_images = {f\"{segment_method[0]}_segmented_{f_size}x{f_size}_filtered_{p}_noised_{img_p}\": segment_method[1](filtered_noisy_images[f\"{f_size}x{f_size}_filtered_{p}_{img_p}\"]) for segment_method in segmentation_methods for f_size in filter_sizes for p in [0.0, 0.1, 0.5, 0.8] for img_p in [\"m_high.jpg\", \"m_mid.jpg\", \"m_low.jpg\"]}\n",
    "end=time.time()\n",
    "print(f\"{end-start:.2f} seconds to finish process.\")"
   ],
   "metadata": {
    "collapsed": false,
    "ExecuteTime": {
     "start_time": "2023-05-14T16:57:22.851398Z",
     "end_time": "2023-05-14T16:57:36.341081Z"
    }
   }
  },
  {
   "cell_type": "code",
   "execution_count": null,
   "outputs": [],
   "source": [
    "plt.imshow(segmented_filtered_noised_images[f\"clustering_segmented_5x5_filtered_0.0_noised_m_low.jpg\"])"
   ],
   "metadata": {
    "collapsed": false,
    "ExecuteTime": {
     "start_time": "2023-05-14T16:57:36.343092Z",
     "end_time": "2023-05-14T16:57:36.497630Z"
    }
   }
  },
  {
   "cell_type": "code",
   "execution_count": null,
   "outputs": [],
   "source": [
    "plt.imshow(segmented_filtered_noised_images[f\"auto_segmented_5x5_filtered_0.0_noised_m_low.jpg\"])"
   ],
   "metadata": {
    "collapsed": false,
    "ExecuteTime": {
     "start_time": "2023-05-14T16:56:13.013021Z",
     "end_time": "2023-05-14T16:56:13.294477Z"
    }
   }
  },
  {
   "cell_type": "code",
   "execution_count": null,
   "outputs": [],
   "source": [
    "plt.imshow(segmented_filtered_noised_images[f\"split_merge_segmented_NonexNone_filtered_0.0_noised_m_high.jpg\"])"
   ],
   "metadata": {
    "collapsed": false,
    "ExecuteTime": {
     "start_time": "2023-05-14T17:12:31.750667Z",
     "end_time": "2023-05-14T17:12:31.960010Z"
    }
   }
  },
  {
   "cell_type": "markdown",
   "source": [
    "# Results"
   ],
   "metadata": {
    "collapsed": false
   }
  },
  {
   "cell_type": "code",
   "execution_count": null,
   "outputs": [],
   "source": [
    "image_set = [\"m_high.jpg\", \"m_mid.jpg\", \"m_low.jpg\"]\n",
    "probabilities = [0.0, 0.1, 0.5, 0.8]\n",
    "f_sizes = filter_sizes\n",
    "segmentations = segmentation_methods"
   ],
   "metadata": {
    "collapsed": false,
    "ExecuteTime": {
     "start_time": "2023-05-14T17:01:03.228824Z",
     "end_time": "2023-05-14T17:01:03.331484Z"
    }
   }
  },
  {
   "cell_type": "code",
   "execution_count": null,
   "outputs": [],
   "source": [
    "results = segmented_filtered_noised_images.copy()"
   ],
   "metadata": {
    "collapsed": false,
    "ExecuteTime": {
     "start_time": "2023-05-14T17:01:27.774422Z",
     "end_time": "2023-05-14T17:01:27.874330Z"
    }
   }
  },
  {
   "cell_type": "code",
   "execution_count": null,
   "outputs": [],
   "source": [
    "results.keys()"
   ],
   "metadata": {
    "collapsed": false,
    "ExecuteTime": {
     "start_time": "2023-05-14T17:13:23.488668Z",
     "end_time": "2023-05-14T17:13:23.586721Z"
    }
   }
  },
  {
   "cell_type": "code",
   "execution_count": null,
   "outputs": [],
   "source": [
    "for method_index in [0,1,2]:\n",
    "    for  filter_index in [0,1,2]:\n",
    "        fig, ax = plt.subplots(nrows=3, ncols=4, figsize=(24,13.5))\n",
    "\n",
    "        f_size = f_sizes[filter_index]\n",
    "        segmentation = segmentations[method_index]\n",
    "\n",
    "        fig.suptitle(f\"Segmentation method: {segmentation[0]}, EPF size: {f_size}\", fontsize=24)\n",
    "        for i, img in enumerate(image_set):\n",
    "            for j, proba in enumerate(probabilities):\n",
    "                ax[i, j].imshow(results[f\"{segmentation[0]}_segmented_{f_size}x{f_size}_filtered_{proba}_noised_{img}\"])\n",
    "                ax[i, j].set_title(f\"{img}, p:{proba}\", fontsize=14)\n",
    "\n",
    "        plt.savefig(f\"segmentation_{segmentation[0]}_epfsize_{f_size}_images.jpg\")\n",
    "        plt.show()"
   ],
   "metadata": {
    "collapsed": false,
    "ExecuteTime": {
     "start_time": "2023-05-14T17:27:41.282351Z",
     "end_time": "2023-05-14T17:28:08.290285Z"
    }
   }
  },
  {
   "cell_type": "code",
   "execution_count": null,
   "outputs": [],
   "source": [
    "fig, ax = plt.subplots(nrows=3, ncols=4, figsize=(24,13.5))\n",
    "\n",
    "index = 1\n",
    "f_size = f_sizes[index]\n",
    "segmentation = segmentations[index]\n",
    "\n",
    "fig.suptitle(f\"Segmentation method: {segmentation[0]}, EPF size: {f_size}\", fontsize=24)\n",
    "for i, img in enumerate(image_set):\n",
    "    for j, proba in enumerate(probabilities):\n",
    "        ax[i, j].imshow(results[f\"{segmentation[0]}_segmented_{f_size}x{f_size}_filtered_{proba}_noised_{img}\"])\n",
    "        ax[i, j].set_title(f\"{img}, p:{proba}\", fontsize=14)\n",
    "\n",
    "plt.savefig(f\"segmentation_{segmentation[0]}_epfsize_{f_size}_images.jpg\")\n",
    "plt.show()"
   ],
   "metadata": {
    "collapsed": false,
    "ExecuteTime": {
     "start_time": "2023-05-14T17:24:14.533335Z",
     "end_time": "2023-05-14T17:24:17.528703Z"
    }
   }
  },
  {
   "cell_type": "code",
   "execution_count": null,
   "outputs": [],
   "source": [
    "fig, ax = plt.subplots(nrows=3, ncols=4, figsize=(24,13.5))\n",
    "\n",
    "index = 2\n",
    "f_size = f_sizes[index]\n",
    "segmentation = segmentations[index]\n",
    "\n",
    "fig.suptitle(f\"Segmentation method: {segmentation[0]}, EPF size: {f_size}\", fontsize=24)\n",
    "for i, img in enumerate(image_set):\n",
    "    for j, proba in enumerate(probabilities):\n",
    "        ax[i, j].imshow(results[f\"{segmentation[0]}_segmented_{f_size}x{f_size}_filtered_{proba}_noised_{img}\"])\n",
    "        ax[i, j].set_title(f\"{img}, p:{proba}\", fontsize=14)\n",
    "\n",
    "plt.savefig(f\"segmentation_{segmentation[0]}_epfsize_{f_size}_images.jpg\")\n",
    "plt.show()"
   ],
   "metadata": {
    "collapsed": false,
    "ExecuteTime": {
     "start_time": "2023-05-14T17:24:31.356740Z",
     "end_time": "2023-05-14T17:24:34.529074Z"
    }
   }
  },
  {
   "cell_type": "code",
   "execution_count": null,
   "outputs": [],
   "source": [],
   "metadata": {
    "collapsed": false
   }
  }
 ],
 "metadata": {
  "kernelspec": {
   "display_name": "Python 3",
   "language": "python",
   "name": "python3"
  },
  "language_info": {
   "codemirror_mode": {
    "name": "ipython",
    "version": 2
   },
   "file_extension": ".py",
   "mimetype": "text/x-python",
   "name": "python",
   "nbconvert_exporter": "python",
   "pygments_lexer": "ipython2",
   "version": "2.7.6"
  }
 },
 "nbformat": 4,
 "nbformat_minor": 0
}
